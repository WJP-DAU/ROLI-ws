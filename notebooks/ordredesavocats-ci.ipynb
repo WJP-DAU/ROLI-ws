{
 "cells": [
  {
   "cell_type": "code",
   "execution_count": 9,
   "metadata": {},
   "outputs": [],
   "source": [
    "import re\n",
    "import requests\n",
    "from bs4 import BeautifulSoup"
   ]
  },
  {
   "cell_type": "code",
   "execution_count": 5,
   "metadata": {},
   "outputs": [],
   "source": [
    "url = \"https://app.ordredesavocats-ci.net/annuaire?page=2\"\n",
    "\n",
    "response = requests.get(url)\n",
    "soup = BeautifulSoup(response.text, \"lxml\")"
   ]
  },
  {
   "cell_type": "code",
   "execution_count": 7,
   "metadata": {},
   "outputs": [],
   "source": [
    "lawyers_html = soup.find_all(\"div\", class_ = \"col-xxl-3 col-xl-3 col-lg-4 col-md-6 col-sm-6 col-xs-6\")"
   ]
  },
  {
   "cell_type": "code",
   "execution_count": null,
   "metadata": {},
   "outputs": [],
   "source": [
    "for lawyer in lawyers_html:\n",
    "    full_name = lawyer.find(\"div\", class_ = \"p-1 text-center\").find(\"p\", class_ = \"mb-0 text-truncate f-w-600 pe-3 px-3\").text.strip()\n",
    "    full_name = re.search(r\"Maître (.*?)(?:$)\", full_name).group(1).strip()\n",
    "\n",
    "    href_info    = lawyer.find(\"a\", {\"id\": \"info\"}).get(\"href\")\n",
    "    href_cabinet = lawyer.find(\"a\", {\"id\": \"cabinet\"}).get(\"href\")\n",
    "\n",
    "    organization = lawyer.find(\"p\", class_ = \"text-truncate f-w-500 mb-0 px-4\").text.strip().title()\n",
    "\n",
    "    email = lawyer.find(\"a\", class_ = \"px-3 pb-0\").get(\"href\")\n",
    "    email = re.search(\n",
    "        r\"mailto:(.*?)(?:$)\", email\n",
    "    ).group(1).strip()\n",
    "\n",
    "    phone = lawyer.find(\"a\", class_ = \"btn btn-outline-primary btn-sm btn-pill border-0\").text.strip()\n",
    "\n",
    "    responsita = requests.get(href_info)\n",
    "    soupita    = BeautifulSoup(responsita.text, \"lxml\")\n",
    "\n",
    "    family_name = soupita.find(\"a\", class_ = \"text-perso-primary\").text.strip()\n",
    "    given_name  = soupita.find(\"div\", class_ = \"desc text-capitalize\").text.strip()\n",
    "\n",
    "    print(given_name)"
   ]
  }
 ],
 "metadata": {
  "kernelspec": {
   "display_name": "general",
   "language": "python",
   "name": "python3"
  },
  "language_info": {
   "codemirror_mode": {
    "name": "ipython",
    "version": 3
   },
   "file_extension": ".py",
   "mimetype": "text/x-python",
   "name": "python",
   "nbconvert_exporter": "python",
   "pygments_lexer": "ipython3",
   "version": "3.13.2"
  }
 },
 "nbformat": 4,
 "nbformat_minor": 2
}
