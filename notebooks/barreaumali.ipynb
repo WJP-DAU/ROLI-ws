{
 "cells": [
  {
   "cell_type": "code",
   "execution_count": 28,
   "metadata": {},
   "outputs": [],
   "source": [
    "from bs4 import BeautifulSoup\n",
    "import pandas as pd"
   ]
  },
  {
   "cell_type": "code",
   "execution_count": 3,
   "metadata": {},
   "outputs": [],
   "source": [
    "with open('barreaumali_sourcecode.html', 'r') as file:\n",
    "    html_content = file.read()"
   ]
  },
  {
   "cell_type": "code",
   "execution_count": 4,
   "metadata": {},
   "outputs": [],
   "source": [
    "s = BeautifulSoup(html_content, 'lxml')"
   ]
  },
  {
   "cell_type": "code",
   "execution_count": null,
   "metadata": {},
   "outputs": [],
   "source": [
    "lawyer_cards = s.find('ul', {'id': 'all-contacts'}).find_all('li')"
   ]
  },
  {
   "cell_type": "code",
   "execution_count": 30,
   "metadata": {},
   "outputs": [],
   "source": [
    "def get_lawyer_info(card):\n",
    "\n",
    "    full_name = card.find('span', class_ = 'contact-list-contact-name').text.strip().title()\n",
    "    \n",
    "    try:\n",
    "        email = card.find('span', class_ = 'contact-list-email').text.strip()\n",
    "    except AttributeError:\n",
    "        email = 'Not Found'\n",
    "    \n",
    "    try:\n",
    "        phone = card.find('span', class_ = 'contact-list-phone contact-list-phone-1').text.strip()\n",
    "    except AttributeError:\n",
    "        phone = 'Not Found'\n",
    "    \n",
    "    try:\n",
    "        address = card.find('span', class_ = 'contact-list-address').text.strip()\n",
    "    except AttributeError:\n",
    "        address = 'Not Found'\n",
    "    \n",
    "    lawyer_entry = {\n",
    "        \"country\"         : 'Mali',\n",
    "        \"title\"           : 'NA',\n",
    "        \"generic_title\"   : True,\n",
    "        \"given_name\"      : 'NA',\n",
    "        \"family_name\"     : 'NA',\n",
    "        \"full_name\"       : full_name,\n",
    "        \"gender\"          : 'NA',\n",
    "        \"email\"           : email,\n",
    "        \"languages\"       : 'NA',\n",
    "        \"position\"        : 'NA',\n",
    "        \"organization\"    : 'NA',\n",
    "        \"phone\"           : phone,\n",
    "        \"mobile\"          : 'NA',\n",
    "        \"practice\"        : 'NA',\n",
    "        \"full_href\"       : 'https://barreaumali.org/annuaire/'\n",
    "    }\n",
    "    \n",
    "    return lawyer_entry\n",
    "\n",
    "    "
   ]
  },
  {
   "cell_type": "code",
   "execution_count": 32,
   "metadata": {},
   "outputs": [],
   "source": [
    "master_data = pd.DataFrame(\n",
    "    [get_lawyer_info(card) for card in lawyer_cards]\n",
    ")\n",
    "master_data.to_csv(\"../data/mali_barreaumali.csv\", index = False, encoding = \"utf-8\")"
   ]
  }
 ],
 "metadata": {
  "kernelspec": {
   "display_name": "dailypy",
   "language": "python",
   "name": "python3"
  },
  "language_info": {
   "codemirror_mode": {
    "name": "ipython",
    "version": 3
   },
   "file_extension": ".py",
   "mimetype": "text/x-python",
   "name": "python",
   "nbconvert_exporter": "python",
   "pygments_lexer": "ipython3",
   "version": "3.13.2"
  }
 },
 "nbformat": 4,
 "nbformat_minor": 2
}
